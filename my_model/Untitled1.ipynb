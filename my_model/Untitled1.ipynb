{
 "cells": [
  {
   "cell_type": "code",
   "execution_count": 1,
   "metadata": {},
   "outputs": [
    {
     "name": "stderr",
     "output_type": "stream",
     "text": [
      "Using TensorFlow backend.\n"
     ]
    }
   ],
   "source": [
    "from keras import backend as K\n",
    "import tensorflow as tf\n",
    "from keras.preprocessing import image\n",
    "\n",
    "import numpy as np\n",
    "import matplotlib.pyplot as plt\n",
    "\n",
    "%matplotlib inline"
   ]
  },
  {
   "cell_type": "code",
   "execution_count": 7,
   "metadata": {
    "collapsed": true
   },
   "outputs": [],
   "source": [
    "DIM =224\n",
    "\n",
    "img = image.load_img('/home/carlos/Dropbox/Reconocimiento Automático/Calopterygidae/DMS10089.JPG',\n",
    "#img = image.load_img('/home/carlos/Dropbox/Reconocimiento Automático/Heptageniidae/DMS10132.JPG',\n",
    "                    target_size=(DIM,DIM))\n",
    "\n",
    "# Preprocessing image\n",
    "img = image.img_to_array(img)\n",
    "img /=255\n",
    "#img -= 0.5\n",
    "#img *= 2.\n",
    "imgs = np.expand_dims(img, axis=0)"
   ]
  },
  {
   "cell_type": "code",
   "execution_count": 8,
   "metadata": {},
   "outputs": [
    {
     "data": {
      "text/plain": [
       "array([[[ 0.32549021,  0.39215687,  0.42352942],\n",
       "        [ 0.34117648,  0.39215687,  0.46666667],\n",
       "        [ 0.4627451 ,  0.47058824,  0.56078434],\n",
       "        ..., \n",
       "        [ 0.4627451 ,  0.50196081,  0.46666667],\n",
       "        [ 0.43137255,  0.47843137,  0.4627451 ],\n",
       "        [ 0.40784314,  0.4509804 ,  0.45882353]],\n",
       "\n",
       "       [[ 0.34117648,  0.3764706 ,  0.49803922],\n",
       "        [ 0.39607844,  0.42352942,  0.49803922],\n",
       "        [ 0.34117648,  0.37254903,  0.42352942],\n",
       "        ..., \n",
       "        [ 0.41960785,  0.49019608,  0.53725493],\n",
       "        [ 0.43921569,  0.50196081,  0.49019608],\n",
       "        [ 0.44705883,  0.49803922,  0.53333336]],\n",
       "\n",
       "       [[ 0.36862746,  0.41568628,  0.4627451 ],\n",
       "        [ 0.36470589,  0.41960785,  0.53333336],\n",
       "        [ 0.38431373,  0.43921569,  0.49019608],\n",
       "        ..., \n",
       "        [ 0.41960785,  0.47058824,  0.53725493],\n",
       "        [ 0.48235294,  0.5529412 ,  0.60000002],\n",
       "        [ 0.47058824,  0.55686277,  0.54901963]],\n",
       "\n",
       "       ..., \n",
       "       [[ 0.55686277,  0.58823532,  0.67058825],\n",
       "        [ 0.52941179,  0.63137257,  0.72156864],\n",
       "        [ 0.49411765,  0.56078434,  0.63137257],\n",
       "        ..., \n",
       "        [ 0.55686277,  0.62352943,  0.72549021],\n",
       "        [ 0.52549022,  0.60784316,  0.627451  ],\n",
       "        [ 0.50588238,  0.58039218,  0.63529414]],\n",
       "\n",
       "       [[ 0.5411765 ,  0.62352943,  0.6901961 ],\n",
       "        [ 0.52549022,  0.60000002,  0.66666669],\n",
       "        [ 0.5411765 ,  0.59215689,  0.627451  ],\n",
       "        ..., \n",
       "        [ 0.627451  ,  0.7019608 ,  0.71764708],\n",
       "        [ 0.55686277,  0.63529414,  0.7647059 ],\n",
       "        [ 0.62352943,  0.65098041,  0.95686275]],\n",
       "\n",
       "       [[ 0.59215689,  0.64705884,  0.69803923],\n",
       "        [ 0.57254905,  0.58431375,  0.74509805],\n",
       "        [ 0.52941179,  0.6156863 ,  0.70588237],\n",
       "        ..., \n",
       "        [ 0.60784316,  0.67843139,  0.71764708],\n",
       "        [ 0.56078434,  0.61960787,  0.73333335],\n",
       "        [ 0.5529412 ,  0.64705884,  0.69411767]]], dtype=float32)"
      ]
     },
     "execution_count": 8,
     "metadata": {},
     "output_type": "execute_result"
    }
   ],
   "source": [
    "imgs[0]"
   ]
  },
  {
   "cell_type": "code",
   "execution_count": 6,
   "metadata": {},
   "outputs": [
    {
     "name": "stdout",
     "output_type": "stream",
     "text": [
      "[[ 0.22623086  0.7737692 ]]\n"
     ]
    }
   ],
   "source": [
    "\n",
    "\n",
    "sess = tf.Session()\n",
    "K.set_session(sess)\n",
    "#K.clear_session()\n",
    "#sess = tf.Session()\n",
    "#K.set_session(sess)\n",
    "\n",
    "from tensorflow.core.framework import graph_pb2\n",
    "with open('graph.pb', \"rb\") as f:\n",
    "    output_graph_def = graph_pb2.GraphDef()\n",
    "    output_graph_def.ParseFromString(f.read())\n",
    "    _ = tf.import_graph_def(output_graph_def, name=\"\")\n",
    "    \n",
    "    \n",
    "x = sess.graph.get_tensor_by_name('input_1:0')\n",
    "y = sess.graph.get_tensor_by_name('dense_1/Softmax:0')\n",
    "\n",
    "new_scores = sess.run(y, feed_dict={x: imgs})\n",
    "\n",
    "print(new_scores)"
   ]
  },
  {
   "cell_type": "code",
   "execution_count": null,
   "metadata": {
    "collapsed": true
   },
   "outputs": [],
   "source": []
  }
 ],
 "metadata": {
  "kernelspec": {
   "display_name": "Python 3",
   "language": "python",
   "name": "python3"
  },
  "language_info": {
   "codemirror_mode": {
    "name": "ipython",
    "version": 3
   },
   "file_extension": ".py",
   "mimetype": "text/x-python",
   "name": "python",
   "nbconvert_exporter": "python",
   "pygments_lexer": "ipython3",
   "version": "3.6.2"
  }
 },
 "nbformat": 4,
 "nbformat_minor": 2
}
