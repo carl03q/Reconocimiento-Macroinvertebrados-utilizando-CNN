{
 "cells": [
  {
   "cell_type": "code",
   "execution_count": 96,
   "metadata": {},
   "outputs": [],
   "source": [
    "import numpy as np\n",
    "from random import shuffle\n",
    "train_pipelines = [[{'X':[1,2,3], 'y':'a'},{'X':[2,2,3], 'y':'b'},{'X':[3,2,3], 'y':'c'},{'X':[4,2,3], 'y':'d'},\n",
    "                   {'X':[4,5,6], 'y':'e'}],\n",
    "                   \n",
    "                   [{'X':[6,7,8], 'y':'f'},\n",
    "                    {'X':[4,3,2], 'y':'g'}],\n",
    "                  \n",
    "                  [{'X':[6,7,8], 'y':'h'},\n",
    "                   {'X':[4,3,2], 'y':'i'}]]"
   ]
  },
  {
   "cell_type": "code",
   "execution_count": 97,
   "metadata": {},
   "outputs": [
    {
     "data": {
      "text/plain": [
       "[{'X': [1, 2, 3], 'y': 'a'},\n",
       " {'X': [2, 2, 3], 'y': 'b'},\n",
       " {'X': [3, 2, 3], 'y': 'c'},\n",
       " {'X': [4, 2, 3], 'y': 'd'},\n",
       " {'X': [4, 5, 6], 'y': 'e'}]"
      ]
     },
     "execution_count": 97,
     "metadata": {},
     "output_type": "execute_result"
    }
   ],
   "source": [
    "train_pipelines[0]"
   ]
  },
  {
   "cell_type": "code",
   "execution_count": 112,
   "metadata": {},
   "outputs": [
    {
     "name": "stdout",
     "output_type": "stream",
     "text": [
      "[2 1 1 1 2 0 2 1 2 2 1 0 0 0 2 1 1 1 1 0 1 0 0 2 2 2 1 1 0 1 1 0]\n",
      "{0: 9, 1: 14, 2: 9}\n",
      "(array([[16, 12,  8],\n",
      "       [24, 28, 32],\n",
      "       [ 8,  4,  6],\n",
      "       [ 4,  4,  6],\n",
      "       [30, 35, 40],\n",
      "       [20, 15, 10],\n",
      "       [ 8, 10, 12],\n",
      "       [ 8, 10, 12],\n",
      "       [ 8, 10, 12],\n",
      "       [16, 12,  8],\n",
      "       [24, 28, 32],\n",
      "       [30, 35, 40],\n",
      "       [20, 15, 10],\n",
      "       [24, 28, 32],\n",
      "       [24, 28, 32],\n",
      "       [24, 28, 32],\n",
      "       [16, 12,  8],\n",
      "       [ 8, 10, 12],\n",
      "       [16, 12,  8],\n",
      "       [24, 28, 32],\n",
      "       [24, 28, 32],\n",
      "       [30, 35, 40],\n",
      "       [ 4,  4,  6],\n",
      "       [20, 15, 10],\n",
      "       [24, 28, 32],\n",
      "       [30, 35, 40],\n",
      "       [24, 28, 32],\n",
      "       [ 4,  4,  6],\n",
      "       [ 8,  4,  6],\n",
      "       [24, 28, 32],\n",
      "       [20, 15, 10],\n",
      "       [20, 15, 10]]), array(['g', 'f', 'd', 'b', 'h', 'i', 'e', 'e', 'e', 'g', 'f', 'h', 'i',\n",
      "       'f', 'f', 'f', 'g', 'e', 'g', 'f', 'f', 'h', 'b', 'i', 'f', 'h',\n",
      "       'f', 'b', 'd', 'f', 'i', 'i'],\n",
      "      dtype='<U1'))\n"
     ]
    }
   ],
   "source": [
    "def multi_generator(train_pipelines, augmenters, batch_size):\n",
    "    #while True:\n",
    "    for i in range(1):\n",
    "        X=[]\n",
    "        y=[]\n",
    "        \n",
    "        num_classes = len(train_pipelines)\n",
    "        choosen_classes = np.random.randint(0, num_classes, (batch_size,))\n",
    "        \n",
    "        unique, counts = np.unique(choosen_classes, return_counts=True)\n",
    "        how_many_per_class=dict(zip(unique, counts))\n",
    "        \n",
    "        \n",
    "        print(choosen_classes)\n",
    "        print(how_many_per_class)\n",
    "        \n",
    "        aug_batch = []\n",
    "        for index in how_many_per_class:\n",
    "            class_size = how_many_per_class[index]\n",
    "            pipeline = np.asarray(train_pipelines[index])\n",
    "            \n",
    "            class_indexes = np.random.randint(0, len(pipeline), (class_size,))\n",
    "            aug_c_batch = list(map(lambda s: {'X':[x * augmenters[index] for x in s['X']], 'y':s['y']}, pipeline[class_indexes]))\n",
    "            \n",
    "            aug_batch.extend(aug_c_batch)\n",
    "        \n",
    "        shuffle(aug_batch)\n",
    "        \n",
    "        X, y = [], []\n",
    "        for img in aug_batch:\n",
    "            X.append(img['X'])\n",
    "            y.append(img['y'])\n",
    "\n",
    "        yield np.asarray(X), np.asarray(y)\n",
    "        \n",
    "for i in multi_generator(train_pipelines, [2,4,5], batch_size=32):\n",
    "    print(i)"
   ]
  },
  {
   "cell_type": "code",
   "execution_count": 45,
   "metadata": {},
   "outputs": [
    {
     "data": {
      "text/plain": [
       "'\\nfor label, pipeline in pipelines.items():\\n    label_categorical = np.zeros(len(pipelines), dtype=np.int)\\n    label_categorical[integer_labels[label]] = 1\\n    pipeline_containers.append(PipelineContainer(label, \\n                                                 integer_labels[label], \\n                                                 label_categorical, \\n                                                 pipeline, \\n                                                 pipeline.keras_generator(batch_size=1)))\\n                                                 '"
      ]
     },
     "execution_count": 45,
     "metadata": {},
     "output_type": "execute_result"
    }
   ],
   "source": [
    "import collections\n",
    "\n",
    "PipelineContainer = collections.namedtuple('PipelineContainer', \n",
    "                                           'label label_integer label_categorical pipeline generator')\n",
    "\n",
    "pipeline_containers = []\n",
    "\n",
    "\n",
    "'''\n",
    "for label, pipeline in pipelines.items():\n",
    "    label_categorical = np.zeros(len(pipelines), dtype=np.int)\n",
    "    label_categorical[integer_labels[label]] = 1\n",
    "    pipeline_containers.append(PipelineContainer(label, \n",
    "                                                 integer_labels[label], \n",
    "                                                 label_categorical, \n",
    "                                                 pipeline, \n",
    "                                                 pipeline.keras_generator(batch_size=1)))\n",
    "                                                 '''"
   ]
  },
  {
   "cell_type": "code",
   "execution_count": 47,
   "metadata": {},
   "outputs": [],
   "source": [
    "a = [\n",
    "    [\n",
    "        [\n",
    "            [1, 2, 6],\n",
    "            [1, 2, 6]],\n",
    "        [ \n",
    "            [1, 1 ,6],\n",
    "            [1, 7 ,1]\n",
    "        ]\n",
    "    ],\n",
    "    [\n",
    "        [\n",
    "            [192, 152, 116],\n",
    "            [192, 152, 116]],\n",
    "        [ \n",
    "            [197, 171 ,126],\n",
    "            [203, 177 ,131]\n",
    "        ]\n",
    "    ]\n",
    "]\n"
   ]
  },
  {
   "cell_type": "code",
   "execution_count": 48,
   "metadata": {},
   "outputs": [],
   "source": [
    "import pandas as pd\n",
    "import numpy as np"
   ]
  },
  {
   "cell_type": "code",
   "execution_count": 50,
   "metadata": {},
   "outputs": [
    {
     "data": {
      "text/html": [
       "<div>\n",
       "<style>\n",
       "    .dataframe thead tr:only-child th {\n",
       "        text-align: right;\n",
       "    }\n",
       "\n",
       "    .dataframe thead th {\n",
       "        text-align: left;\n",
       "    }\n",
       "\n",
       "    .dataframe tbody tr th {\n",
       "        vertical-align: top;\n",
       "    }\n",
       "</style>\n",
       "<table border=\"1\" class=\"dataframe\">\n",
       "  <thead>\n",
       "    <tr style=\"text-align: right;\">\n",
       "      <th></th>\n",
       "      <th>image</th>\n",
       "      <th>label</th>\n",
       "      <th>set</th>\n",
       "    </tr>\n",
       "  </thead>\n",
       "  <tbody>\n",
       "    <tr>\n",
       "      <th>0</th>\n",
       "      <td>[[[1, 2, 6], [1, 2, 6]], [[1, 1, 6], [1, 7, 1]]]</td>\n",
       "      <td>0</td>\n",
       "      <td>train</td>\n",
       "    </tr>\n",
       "    <tr>\n",
       "      <th>1</th>\n",
       "      <td>[[[192, 152, 116], [192, 152, 116]], [[197, 17...</td>\n",
       "      <td>0</td>\n",
       "      <td>train</td>\n",
       "    </tr>\n",
       "    <tr>\n",
       "      <th>0</th>\n",
       "      <td>[[[1, 2, 6], [1, 2, 6]], [[1, 1, 6], [1, 7, 1]]]</td>\n",
       "      <td>0</td>\n",
       "      <td>train</td>\n",
       "    </tr>\n",
       "    <tr>\n",
       "      <th>1</th>\n",
       "      <td>[[[192, 152, 116], [192, 152, 116]], [[197, 17...</td>\n",
       "      <td>0</td>\n",
       "      <td>train</td>\n",
       "    </tr>\n",
       "  </tbody>\n",
       "</table>\n",
       "</div>"
      ],
      "text/plain": [
       "                                               image  label    set\n",
       "0   [[[1, 2, 6], [1, 2, 6]], [[1, 1, 6], [1, 7, 1]]]      0  train\n",
       "1  [[[192, 152, 116], [192, 152, 116]], [[197, 17...      0  train\n",
       "0   [[[1, 2, 6], [1, 2, 6]], [[1, 1, 6], [1, 7, 1]]]      0  train\n",
       "1  [[[192, 152, 116], [192, 152, 116]], [[197, 17...      0  train"
      ]
     },
     "execution_count": 50,
     "metadata": {},
     "output_type": "execute_result"
    }
   ],
   "source": [
    "class_index = 0\n",
    "data_type = 'train'\n",
    "data = list(map(lambda x: (x, class_index, data_type), a))\n",
    "df = pd.DataFrame(data, columns=['image', 'label', 'set'])\n",
    "df\n",
    "\n",
    "df_f = df.append(df)\n",
    "df_f"
   ]
  },
  {
   "cell_type": "code",
   "execution_count": null,
   "metadata": {
    "collapsed": true
   },
   "outputs": [],
   "source": []
  }
 ],
 "metadata": {
  "kernelspec": {
   "display_name": "Python 3",
   "language": "python",
   "name": "python3"
  }
 },
 "nbformat": 4,
 "nbformat_minor": 2
}
